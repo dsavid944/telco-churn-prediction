{
 "cells": [
  {
   "cell_type": "markdown",
   "id": "5484ca86",
   "metadata": {},
   "source": [
    "## Importar librerías"
   ]
  },
  {
   "cell_type": "code",
   "execution_count": 25,
   "id": "0a4e813b",
   "metadata": {},
   "outputs": [],
   "source": [
    "import pandas as pd                                # Para manipulación de datos\n",
    "from pandas_profiling import ProfileReport         # Para exploración automática\n",
    "import numpy as np\n",
    "import matplotlib.pyplot as plt\n",
    "import seaborn as sns\n"
   ]
  },
  {
   "cell_type": "markdown",
   "id": "b3614f31",
   "metadata": {},
   "source": [
    "## Cargar el dataset"
   ]
  },
  {
   "cell_type": "code",
   "execution_count": 26,
   "id": "5deb4968",
   "metadata": {},
   "outputs": [
    {
     "name": "stdout",
     "output_type": "stream",
     "text": [
      "Dataset cargado con 7043 filas y 21 columnas.\n"
     ]
    }
   ],
   "source": [
    "df = pd.read_csv(\"WA_Fn-UseC_-Telco-Customer-Churn.csv\")\n",
    "\n",
    "# 1. Verificar dimensiones\n",
    "print(f\"Dataset cargado con {df.shape[0]} filas y {df.shape[1]} columnas.\")"
   ]
  },
  {
   "cell_type": "markdown",
   "id": "a6df0dd5",
   "metadata": {},
   "source": [
    "# I. DESCRIPCIÓN DE NECESIDADES DE LIMPIEZA"
   ]
  },
  {
   "cell_type": "markdown",
   "id": "1e25d0c2",
   "metadata": {},
   "source": [
    "## 1. Duplicados totales"
   ]
  },
  {
   "cell_type": "code",
   "execution_count": 37,
   "id": "67a7094a",
   "metadata": {},
   "outputs": [
    {
     "name": "stdout",
     "output_type": "stream",
     "text": [
      "1️⃣ Duplicados totales: 0\n",
      "\n"
     ]
    }
   ],
   "source": [
    "dup_count = df.duplicated().sum()\n",
    "print(f\"1️⃣ Duplicados totales: {dup_count}\")\n",
    "if dup_count:\n",
    "    # ¿En qué customerID aparecen?\n",
    "    dup_ids = df[df.duplicated(subset=[\"customerID\"], keep=False)][\"customerID\"].unique()\n",
    "    print(\"  • customerID duplicados:\", dup_ids.tolist())\n",
    "print()"
   ]
  },
  {
   "cell_type": "markdown",
   "id": "57991c40",
   "metadata": {},
   "source": [
    "## 2. Valores nulos y cadenas vacías"
   ]
  },
  {
   "cell_type": "code",
   "execution_count": 36,
   "id": "9433c3e7",
   "metadata": {},
   "outputs": [
    {
     "name": "stdout",
     "output_type": "stream",
     "text": [
      "\n",
      "2️⃣ Valores nulos / vacíos por columna:\n",
      "TotalCharges    11\n",
      "dtype: int64\n"
     ]
    }
   ],
   "source": [
    "blank_counts = df.isnull().sum() + df.astype(str)\\\n",
    "    .apply(lambda col: col.str.strip().eq(\"\")).sum()\n",
    "print(\"\\n2️⃣ Valores nulos / vacíos por columna:\")\n",
    "print(blank_counts[blank_counts > 0])"
   ]
  },
  {
   "cell_type": "markdown",
   "id": "7674bd2a",
   "metadata": {},
   "source": [
    "## 3. Inconsistencias en valores (revisa categorías)"
   ]
  },
  {
   "cell_type": "code",
   "execution_count": 38,
   "id": "b6262aa3",
   "metadata": {},
   "outputs": [
    {
     "name": "stdout",
     "output_type": "stream",
     "text": [
      "\n",
      "3️⃣ Valores únicos por columna categórica (muestra primeras 5):\n",
      "   • gender: ['Female' 'Male']\n",
      "   • Partner: ['Yes' 'No']\n",
      "   • Dependents: ['No' 'Yes']\n",
      "   • PhoneService: ['No' 'Yes']\n",
      "   • MultipleLines: ['No phone service' 'No' 'Yes']\n",
      "   • InternetService: ['DSL' 'Fiber optic' 'No']\n",
      "   • OnlineSecurity: ['No' 'Yes' 'No internet service']\n",
      "   • OnlineBackup: ['Yes' 'No' 'No internet service']\n",
      "   • DeviceProtection: ['No' 'Yes' 'No internet service']\n",
      "   • TechSupport: ['No' 'Yes' 'No internet service']\n",
      "   • StreamingTV: ['No' 'Yes' 'No internet service']\n",
      "   • StreamingMovies: ['No' 'Yes' 'No internet service']\n",
      "   • Contract: ['Month-to-month' 'One year' 'Two year']\n",
      "   • PaperlessBilling: ['Yes' 'No']\n",
      "   • PaymentMethod: ['Electronic check' 'Mailed check' 'Bank transfer (automatic)'\n",
      " 'Credit card (automatic)']\n",
      "   • Churn: ['No' 'Yes']\n"
     ]
    }
   ],
   "source": [
    "print(\"\\n3️⃣ Valores únicos por columna categórica (muestra primeras 5):\")\n",
    "for col in df.select_dtypes(include=\"object\").columns:\n",
    "    uniques = df[col].unique()\n",
    "    if len(uniques) < 10:\n",
    "        print(f\"   • {col}: {uniques}\")"
   ]
  },
  {
   "cell_type": "markdown",
   "id": "96632573",
   "metadata": {},
   "source": [
    "## 4. Tipos de datos actuales"
   ]
  },
  {
   "cell_type": "code",
   "execution_count": 39,
   "id": "350c0eb4",
   "metadata": {},
   "outputs": [
    {
     "name": "stdout",
     "output_type": "stream",
     "text": [
      "\n",
      "4️⃣ Tipos de dato originales:\n",
      "customerID           object\n",
      "gender               object\n",
      "SeniorCitizen         int64\n",
      "Partner              object\n",
      "Dependents           object\n",
      "tenure                int64\n",
      "PhoneService         object\n",
      "MultipleLines        object\n",
      "InternetService      object\n",
      "OnlineSecurity       object\n",
      "OnlineBackup         object\n",
      "DeviceProtection     object\n",
      "TechSupport          object\n",
      "StreamingTV          object\n",
      "StreamingMovies      object\n",
      "Contract             object\n",
      "PaperlessBilling     object\n",
      "PaymentMethod        object\n",
      "MonthlyCharges      float64\n",
      "TotalCharges         object\n",
      "Churn                object\n",
      "dtype: object\n"
     ]
    }
   ],
   "source": [
    "print(\"\\n4️⃣ Tipos de dato originales:\")\n",
    "print(df.dtypes)"
   ]
  },
  {
   "cell_type": "markdown",
   "id": "bf63d6e5",
   "metadata": {},
   "source": [
    "## 5. Valores atípicos"
   ]
  },
  {
   "cell_type": "code",
   "execution_count": 40,
   "id": "cd9123cc",
   "metadata": {},
   "outputs": [
    {
     "name": "stdout",
     "output_type": "stream",
     "text": [
      "\n",
      "5️⃣ Conteo de outliers por variable numérica:\n",
      "{'SeniorCitizen': np.int64(1142), 'tenure': np.int64(0), 'MonthlyCharges': np.int64(0)}\n"
     ]
    }
   ],
   "source": [
    "num_cols = df.select_dtypes(include=[\"int64\",\"float64\"]).columns\n",
    "outliers = {}\n",
    "for col in num_cols:\n",
    "    q1, q3 = df[col].quantile([0.25, 0.75])\n",
    "    iqr = q3 - q1\n",
    "    low, high = q1 - 1.5*iqr, q3 + 1.5*iqr\n",
    "    mask = ~df[col].between(low, high)\n",
    "    outliers[col] = mask.sum()\n",
    "print(\"\\n5️⃣ Conteo de outliers por variable numérica:\")\n",
    "print(outliers)"
   ]
  },
  {
   "cell_type": "markdown",
   "id": "d9507cec",
   "metadata": {},
   "source": [
    "#"
   ]
  },
  {
   "cell_type": "markdown",
   "id": "a56d5fba",
   "metadata": {},
   "source": [
    "## 6. Nivel de granularidad"
   ]
  },
  {
   "cell_type": "code",
   "execution_count": 41,
   "id": "5fa97b81",
   "metadata": {},
   "outputs": [
    {
     "name": "stdout",
     "output_type": "stream",
     "text": [
      "\n",
      "6️⃣ Granularidad: hay 73 niveles de 'tenure' distintos.\n"
     ]
    }
   ],
   "source": [
    "granularity = df.groupby(\"tenure\").size()\n",
    "print(f\"\\n6️⃣ Granularidad: hay {len(granularity)} niveles de 'tenure' distintos.\")"
   ]
  },
  {
   "cell_type": "markdown",
   "id": "5e735be1",
   "metadata": {},
   "source": [
    "# II. LIMPIEZA Y TRANSFORMACIÓN DE DATOS"
   ]
  },
  {
   "cell_type": "markdown",
   "id": "54be3a48",
   "metadata": {},
   "source": [
    "## 1. Eliminación de duplicados"
   ]
  },
  {
   "cell_type": "code",
   "execution_count": 42,
   "id": "d099eead",
   "metadata": {},
   "outputs": [
    {
     "name": "stdout",
     "output_type": "stream",
     "text": [
      "✅ Duplicados eliminados, nuevo tamaño: (7043, 21)\n"
     ]
    }
   ],
   "source": [
    "df = df.drop_duplicates()\n",
    "print(f\"✅ Duplicados eliminados, nuevo tamaño: {df.shape}\")"
   ]
  },
  {
   "cell_type": "markdown",
   "id": "52777249",
   "metadata": {},
   "source": [
    "## 2. Tratamiento de nulos"
   ]
  },
  {
   "cell_type": "code",
   "execution_count": 43,
   "id": "f9f474c9",
   "metadata": {},
   "outputs": [
    {
     "name": "stdout",
     "output_type": "stream",
     "text": [
      "   • Nulos en TotalCharges tras conversión: 11\n",
      "   • Nulos imputados con mediana: 1397.475\n"
     ]
    },
    {
     "name": "stderr",
     "output_type": "stream",
     "text": [
      "C:\\Users\\David Sanchez\\AppData\\Local\\Temp\\ipykernel_12284\\2143470213.py:1: FutureWarning: A value is trying to be set on a copy of a DataFrame or Series through chained assignment using an inplace method.\n",
      "The behavior will change in pandas 3.0. This inplace method will never work because the intermediate object on which we are setting values always behaves as a copy.\n",
      "\n",
      "For example, when doing 'df[col].method(value, inplace=True)', try using 'df.method({col: value}, inplace=True)' or df[col] = df[col].method(value) instead, to perform the operation inplace on the original object.\n",
      "\n",
      "\n",
      "  df[\"TotalCharges\"].replace(\"\", np.nan, inplace=True)\n",
      "C:\\Users\\David Sanchez\\AppData\\Local\\Temp\\ipykernel_12284\\2143470213.py:8: FutureWarning: A value is trying to be set on a copy of a DataFrame or Series through chained assignment using an inplace method.\n",
      "The behavior will change in pandas 3.0. This inplace method will never work because the intermediate object on which we are setting values always behaves as a copy.\n",
      "\n",
      "For example, when doing 'df[col].method(value, inplace=True)', try using 'df.method({col: value}, inplace=True)' or df[col] = df[col].method(value) instead, to perform the operation inplace on the original object.\n",
      "\n",
      "\n",
      "  df[\"TotalCharges\"].fillna(median_tc, inplace=True)\n"
     ]
    }
   ],
   "source": [
    "df[\"TotalCharges\"].replace(\"\", np.nan, inplace=True)\n",
    "df[\"TotalCharges\"] = pd.to_numeric(df[\"TotalCharges\"], errors=\"coerce\")\n",
    "print(\"   • Nulos en TotalCharges tras conversión:\",\n",
    "      df[\"TotalCharges\"].isnull().sum())\n",
    "\n",
    "#    Imputación: usamos mediana\n",
    "median_tc = df[\"TotalCharges\"].median()\n",
    "df[\"TotalCharges\"].fillna(median_tc, inplace=True)\n",
    "print(\"   • Nulos imputados con mediana:\", median_tc)"
   ]
  },
  {
   "cell_type": "markdown",
   "id": "0f54d306",
   "metadata": {},
   "source": [
    "## 3. Ajuste de tipos de dato"
   ]
  },
  {
   "cell_type": "code",
   "execution_count": 44,
   "id": "b2fd39dd",
   "metadata": {},
   "outputs": [
    {
     "name": "stdout",
     "output_type": "stream",
     "text": [
      "✅ Tipos tras ajuste:\n",
      "customerID            object\n",
      "gender                object\n",
      "SeniorCitizen       category\n",
      "Partner               object\n",
      "Dependents            object\n",
      "tenure                 int64\n",
      "PhoneService          object\n",
      "MultipleLines         object\n",
      "InternetService       object\n",
      "OnlineSecurity        object\n",
      "OnlineBackup          object\n",
      "DeviceProtection      object\n",
      "TechSupport           object\n",
      "StreamingTV           object\n",
      "StreamingMovies       object\n",
      "Contract              object\n",
      "PaperlessBilling      object\n",
      "PaymentMethod         object\n",
      "MonthlyCharges       float64\n",
      "TotalCharges         float64\n",
      "Churn                 object\n",
      "dtype: object\n"
     ]
    }
   ],
   "source": [
    "df[\"SeniorCitizen\"] = df[\"SeniorCitizen\"].astype(\"category\")\n",
    "# (si tuvieras fechas: df['fecha'] = pd.to_datetime(df['fecha']))\n",
    "print(\"✅ Tipos tras ajuste:\")\n",
    "print(df.dtypes)"
   ]
  },
  {
   "cell_type": "markdown",
   "id": "745e807a",
   "metadata": {},
   "source": [
    "## 4. Detección y tratamiento de outliers"
   ]
  },
  {
   "cell_type": "code",
   "execution_count": 45,
   "id": "1aafdebd",
   "metadata": {},
   "outputs": [
    {
     "data": {
      "image/png": "[encoded data removed]",
      "text/plain": [
       "<Figure size 640x480 with 1 Axes>"
      ]
     },
     "metadata": {},
     "output_type": "display_data"
    },
    {
     "data": {
      "image/png": "[encoded data removed]",
      "text/plain": [
       "<Figure size 640x480 with 1 Axes>"
      ]
     },
     "metadata": {},
     "output_type": "display_data"
    }
   ],
   "source": [
    "plt.boxplot(df[\"MonthlyCharges\"])\n",
    "plt.title(\"Boxplot de MonthlyCharges antes de winsorizar\")\n",
    "plt.show()\n",
    "\n",
    "# Winsorización al 1° y 99° percentil\n",
    "lower, upper = df[\"MonthlyCharges\"].quantile([0.01, 0.99])\n",
    "df[\"MonthlyCharges_w\"] = df[\"MonthlyCharges\"].clip(lower, upper)\n",
    "plt.boxplot(df[\"MonthlyCharges_w\"])\n",
    "plt.title(\"Boxplot de MonthlyCharges tras winsorización\")\n",
    "plt.show()"
   ]
  },
  {
   "cell_type": "markdown",
   "id": "c0e8b727",
   "metadata": {},
   "source": [
    "## 5. Correcciones con replace/map"
   ]
  },
  {
   "cell_type": "code",
   "execution_count": 46,
   "id": "7db0c976",
   "metadata": {},
   "outputs": [
    {
     "name": "stdout",
     "output_type": "stream",
     "text": [
      "   • Unique MultipleLines: ['No' 'Yes']\n"
     ]
    }
   ],
   "source": [
    "df[\"MultipleLines\"] = df[\"MultipleLines\"].replace(\"No phone service\", \"No\")\n",
    "print(\"   • Unique MultipleLines:\", df[\"MultipleLines\"].unique())"
   ]
  },
  {
   "cell_type": "markdown",
   "id": "ebc778ac",
   "metadata": {},
   "source": [
    "## 6. Agregación de datos"
   ]
  },
  {
   "cell_type": "code",
   "execution_count": 47,
   "id": "002b38ab",
   "metadata": {},
   "outputs": [
    {
     "name": "stdout",
     "output_type": "stream",
     "text": [
      "   • Nueva columna TotalServices creada.\n"
     ]
    }
   ],
   "source": [
    "servicios = [\"PhoneService\",\"OnlineSecurity\",\"OnlineBackup\",\n",
    "             \"DeviceProtection\",\"TechSupport\",\"StreamingTV\",\"StreamingMovies\"]\n",
    "df[\"TotalServices\"] = df[servicios].apply(lambda row: row.eq(\"Yes\").sum(), axis=1)\n",
    "print(\"   • Nueva columna TotalServices creada.\")"
   ]
  },
  {
   "cell_type": "markdown",
   "id": "ceb2d46b",
   "metadata": {},
   "source": [
    "# III. VALIDACIÓN"
   ]
  },
  {
   "cell_type": "markdown",
   "id": "536df989",
   "metadata": {},
   "source": [
    "## 1. Completitud de datos en columnas críticas"
   ]
  },
  {
   "cell_type": "code",
   "execution_count": 48,
   "id": "d0d11969",
   "metadata": {},
   "outputs": [
    {
     "name": "stdout",
     "output_type": "stream",
     "text": [
      "📋 Nulos en columnas críticas tras limpieza:\n",
      "tenure            0\n",
      "MonthlyCharges    0\n",
      "TotalCharges      0\n",
      "Churn             0\n",
      "dtype: int64\n"
     ]
    }
   ],
   "source": [
    "crit_cols = [\"tenure\",\"MonthlyCharges\",\"TotalCharges\",\"Churn\"]\n",
    "missing_crit = df[crit_cols].isnull().sum()\n",
    "print(\"📋 Nulos en columnas críticas tras limpieza:\")\n",
    "print(missing_crit)"
   ]
  },
  {
   "cell_type": "markdown",
   "id": "092d07ba",
   "metadata": {},
   "source": [
    "## 2. Relevancia de variables"
   ]
  },
  {
   "cell_type": "code",
   "execution_count": 49,
   "id": "928ca5be",
   "metadata": {},
   "outputs": [
    {
     "name": "stdout",
     "output_type": "stream",
     "text": [
      "\n",
      "📈 Distribución de Churn (proporción clase objetivo):\n",
      "Churn\n",
      "No     0.73463\n",
      "Yes    0.26537\n",
      "Name: proportion, dtype: float64\n"
     ]
    }
   ],
   "source": [
    "print(\"\\n📈 Distribución de Churn (proporción clase objetivo):\")\n",
    "print(df[\"Churn\"].value_counts(normalize=True))"
   ]
  },
  {
   "cell_type": "markdown",
   "id": "c6446167",
   "metadata": {},
   "source": [
    "## 3. Granularidad adecuada"
   ]
  },
  {
   "cell_type": "code",
   "execution_count": 50,
   "id": "4c6636ac",
   "metadata": {},
   "outputs": [
    {
     "name": "stdout",
     "output_type": "stream",
     "text": [
      "\n",
      "🔍 Nivel de granularidad final en tenure: 73 niveles\n"
     ]
    }
   ],
   "source": [
    "print(f\"\\n🔍 Nivel de granularidad final en tenure: {df['tenure'].nunique()} niveles\")"
   ]
  }
 ],
 "metadata": {
  "kernelspec": {
   "display_name": "Python 3",
   "language": "python",
   "name": "python3"
  },
  "language_info": {
   "codemirror_mode": {
    "name": "ipython",
    "version": 3
   },
   "file_extension": ".py",
   "mimetype": "text/x-python",
   "name": "python",
   "nbconvert_exporter": "python",
   "pygments_lexer": "ipython3",
   "version": "3.12.4"
  }
 },
 "nbformat": 4,
 "nbformat_minor": 5
}
