{
 "cells": [
  {
   "cell_type": "markdown",
   "id": "ec12c601",
   "metadata": {},
   "source": [
    "## Instalación de dependencias"
   ]
  },
  {
   "cell_type": "code",
   "execution_count": null,
   "id": "67ac58c9",
   "metadata": {},
   "outputs": [],
   "source": [
    "pip install pandas pandas-profiling "
   ]
  },
  {
   "cell_type": "markdown",
   "id": "b0add374",
   "metadata": {},
   "source": [
    "## Importar librerías"
   ]
  },
  {
   "cell_type": "code",
   "execution_count": 1,
   "id": "ae6e2d80",
   "metadata": {},
   "outputs": [
    {
     "data": {
      "text/html": [
       "\n",
       "            <div>\n",
       "                <ins><a href=\"https://ydata.ai/register\">Upgrade to ydata-sdk</a></ins>\n",
       "                <p>\n",
       "                    Improve your data and profiling with ydata-sdk, featuring data quality scoring, redundancy detection, outlier identification, text validation, and synthetic data generation.\n",
       "                </p>\n",
       "            </div>\n",
       "            "
      ],
      "text/plain": [
       "<IPython.core.display.HTML object>"
      ]
     },
     "metadata": {},
     "output_type": "display_data"
    },
    {
     "name": "stderr",
     "output_type": "stream",
     "text": [
      "C:\\Users\\David Sanchez\\AppData\\Local\\Temp\\ipykernel_16100\\2468428888.py:2: DeprecationWarning: `import pandas_profiling` is going to be deprecated by April 1st. Please use `import ydata_profiling` instead.\n",
      "  from pandas_profiling import ProfileReport         # Para exploración automática\n"
     ]
    }
   ],
   "source": [
    "import pandas as pd                                # Para manipulación de datos\n",
    "from pandas_profiling import ProfileReport         # Para exploración automática\n",
    "import matplotlib.pyplot as plt"
   ]
  },
  {
   "cell_type": "markdown",
   "id": "ceb56180",
   "metadata": {},
   "source": [
    "## Descargar y cargar el dataset"
   ]
  },
  {
   "cell_type": "code",
   "execution_count": 2,
   "id": "539eb117",
   "metadata": {},
   "outputs": [
    {
     "name": "stdout",
     "output_type": "stream",
     "text": [
      "Dataset cargado con 7043 filas y 21 columnas.\n"
     ]
    }
   ],
   "source": [
    "df = pd.read_csv(\"WA_Fn-UseC_-Telco-Customer-Churn.csv\")\n",
    "\n",
    "# 1. Verificar dimensiones\n",
    "print(f\"Dataset cargado con {df.shape[0]} filas y {df.shape[1]} columnas.\")\n"
   ]
  },
  {
   "cell_type": "markdown",
   "id": "c8774817",
   "metadata": {},
   "source": [
    "## Duplicados"
   ]
  },
  {
   "cell_type": "code",
   "execution_count": 3,
   "id": "0f8eb12c",
   "metadata": {},
   "outputs": [
    {
     "name": "stdout",
     "output_type": "stream",
     "text": [
      "Duplicados encontrados: 0\n"
     ]
    }
   ],
   "source": [
    "# Contamos registros duplicados exactos\n",
    "num_duplicados = df.duplicated().sum()\n",
    "print(f\"Duplicados encontrados: {num_duplicados}\")\n",
    "\n",
    "# Eliminarlos y actualizar el DataFrame\n",
    "# df = df.drop_duplicates()\n"
   ]
  },
  {
   "cell_type": "markdown",
   "id": "b97b12fc",
   "metadata": {},
   "source": [
    "## Valores nulos"
   ]
  },
  {
   "cell_type": "code",
   "execution_count": 4,
   "id": "fdc2daae",
   "metadata": {},
   "outputs": [
    {
     "name": "stdout",
     "output_type": "stream",
     "text": [
      "Columnas con valores nulos:\n",
      " Series([], dtype: int64)\n"
     ]
    }
   ],
   "source": [
    "# Sumamos nulos por columna\n",
    "nulos = df.isnull().sum()\n",
    "\n",
    "# Mostramos solo las columnas que tienen al menos 1 nulo\n",
    "print(\"Columnas con valores nulos:\\n\", nulos[nulos > 0])"
   ]
  },
  {
   "cell_type": "markdown",
   "id": "b0a0bf0d",
   "metadata": {},
   "source": [
    "## Tipos de datos y conversiones"
   ]
  },
  {
   "cell_type": "code",
   "execution_count": null,
   "id": "ce3a1ce3",
   "metadata": {},
   "outputs": [],
   "source": [
    "# 1. Revisar tipos actuales\n",
    "print(\"Tipos de datos originales:\\n\", df.dtypes)\n",
    "\n",
    "# 2. Convertir TotalCharges de object a numérico (puede haber strings vacíos)\n",
    "df[\"TotalCharges\"] = pd.to_numeric(df[\"TotalCharges\"], errors=\"coerce\")\n",
    "\n",
    "# 3. Convertir SeniorCitizen a categórico\n",
    "df[\"SeniorCitizen\"] = df[\"SeniorCitizen\"].astype(\"category\")\n",
    "\n",
    "# 4. Confirmar cambios\n",
    "print(\"\\nTipos de datos tras conversión:\\n\", df.dtypes)"
   ]
  },
  {
   "cell_type": "markdown",
   "id": "8d32fbd9",
   "metadata": {},
   "source": [
    "## Distribuciones"
   ]
  },
  {
   "cell_type": "code",
   "execution_count": null,
   "id": "f5c30bd4",
   "metadata": {},
   "outputs": [],
   "source": [
    "# Distribuciones de variables numéricas\n",
    "\n",
    "# Seleccionar sólo las columnas numéricas\n",
    "num_cols = df.select_dtypes(include=['float64', 'int64']).columns\n",
    "\n",
    "# Plotear histogramas\n",
    "for col in num_cols:\n",
    "    plt.figure()\n",
    "    df[col].hist(bins=30)\n",
    "    plt.title(f'Distribución de {col}')\n",
    "    plt.xlabel(col)\n",
    "    plt.ylabel('Frecuencia')\n",
    "    plt.show()\n",
    "    \n",
    "# Resumen rápido en texto\n",
    "    q25, q50, q75 = df[col].quantile([0.25,0.5,0.75])\n",
    "    print(f\"{col}: media={df[col].mean():.2f}, mediana={q50:.2f}, 25%={q25:.2f}, 75%={q75:.2f}\\n\")"
   ]
  },
  {
   "cell_type": "markdown",
   "id": "50182320",
   "metadata": {},
   "source": [
    "## Correlaciones"
   ]
  },
  {
   "cell_type": "code",
   "execution_count": null,
   "id": "7690b520",
   "metadata": {},
   "outputs": [],
   "source": [
    "# Matriz de correlación numérica\n",
    "corr_matrix = df[num_cols].corr(method='pearson')\n",
    "\n",
    "# Mostrar la tabla\n",
    "print(\"Correlaciones (Pearson) entre variables numéricas:\\n\", corr_matrix)\n",
    "\n",
    "# Heatmap para ver las más altas/bajas\n",
    "import seaborn as sns\n",
    "\n",
    "plt.figure(figsize=(8,6))\n",
    "sns.heatmap(corr_matrix, annot=True, fmt=\".2f\", cmap='coolwarm')\n",
    "plt.title(\"Mapa de calor de correlaciones\")\n",
    "plt.show()\n"
   ]
  },
  {
   "cell_type": "markdown",
   "id": "ad9d9bd0",
   "metadata": {},
   "source": [
    "## Resumen estadístico"
   ]
  },
  {
   "cell_type": "code",
   "execution_count": null,
   "id": "632baf2e",
   "metadata": {},
   "outputs": [],
   "source": [
    "# Resumen estadístico de columnas numéricas\n",
    "desc_num = df[num_cols].describe()\n",
    "print(\"Resumen estadístico (numérico):\\n\", desc_num)\n",
    "\n",
    "# Para variables categóricas, ver conteos\n",
    "cat_cols = df.select_dtypes(include=['object', 'category']).columns\n",
    "desc_cat = df[cat_cols].describe()\n",
    "print(\"\\nResumen estadístico (categórico):\\n\", desc_cat)"
   ]
  },
  {
   "cell_type": "markdown",
   "id": "e2e68aad",
   "metadata": {},
   "source": [
    "## Generar reporte con pandas_profiling"
   ]
  },
  {
   "cell_type": "code",
   "execution_count": null,
   "id": "d3c6e58f",
   "metadata": {},
   "outputs": [],
   "source": [
    "profile = ProfileReport(\n",
    "    df,\n",
    "    title=\"Telco Customer Churn — Exploración Automática\",\n",
    "    explorative=True,\n",
    "    correlations={\n",
    "        \"pearson\": {\"calculate\": True},\n",
    "        \"spearman\": {\"calculate\": True},\n",
    "        \"phi_k\": {\"calculate\": False}\n",
    "    }\n",
    ")\n",
    "\n",
    "# Mostrar dentro del notebook\n",
    "profile.to_notebook_iframe()\n",
    "\n",
    "# Guardar en disco para compartir\n",
    "profile.to_file(\"reports/telco_churn_profile.html\")"
   ]
  }
 ],
 "metadata": {
  "kernelspec": {
   "display_name": "Python 3",
   "language": "python",
   "name": "python3"
  },
  "language_info": {
   "codemirror_mode": {
    "name": "ipython",
    "version": 3
   },
   "file_extension": ".py",
   "mimetype": "text/x-python",
   "name": "python",
   "nbconvert_exporter": "python",
   "pygments_lexer": "ipython3",
   "version": "3.12.4"
  }
 },
 "nbformat": 4,
 "nbformat_minor": 5
}
